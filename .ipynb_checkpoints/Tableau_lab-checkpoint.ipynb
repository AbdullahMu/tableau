{
 "cells": [
  {
   "cell_type": "markdown",
   "metadata": {},
   "source": [
    "<img src=\"http://imgur.com/1ZcRyrc.png\" style=\"float: left; margin: 20px; height: 55px\">\n",
    "\n",
    "# Tableau Lab\n",
    "\n",
    "---"
   ]
  },
  {
   "cell_type": "markdown",
   "metadata": {},
   "source": [
    "Load the San Francisco crime dataset in Tableau.\n",
    "\n",
    "1. Make the geographical data usable.\n",
    "1. Filter datapoints which do not belong to the San Francisco area.\n",
    "\n",
    "![Q1&Q2](Q1&Q2.png)"
   ]
  },
  {
   "cell_type": "markdown",
   "metadata": {},
   "source": [
    "3. Use the pager to produce a 'film' showing on a map sequentially when and where a crime happened.\n",
    "\n",
    "![Q3](Q3.png)"
   ]
  },
  {
   "cell_type": "markdown",
   "metadata": {},
   "source": [
    "4. Create a parameter which allows you to choose between Category, Pd District and Resolution.\n",
    "Create a calculated field from that parameter which you can use to change the colouring of the points on the map according to your parameter choice.\n",
    "\n",
    "![Q4](Q4.png)"
   ]
  },
  {
   "cell_type": "markdown",
   "metadata": {},
   "source": [
    "5. Create groups of crime categories of similar type.\n",
    "\n",
    "![Q5](Q5.png)"
   ]
  },
  {
   "cell_type": "markdown",
   "metadata": {},
   "source": [
    "6. Produce plots of crime category versus time. \n",
    "   * Find out how to depict the time series with different time scale resolutions.\n",
    "      \n",
    "   ![Q6B](Q6B.png)\n",
    "   \n",
    "   * Find out how to get the aggregate for quartals/months irrespective of the year.\n",
    "   \n",
    "   ![Q6C](Q6C.png)"
   ]
  },
  {
   "cell_type": "code",
   "execution_count": null,
   "metadata": {},
   "outputs": [],
   "source": []
  }
 ],
 "metadata": {
  "anaconda-cloud": {},
  "kernelspec": {
   "display_name": "Python 3",
   "language": "python",
   "name": "python3"
  },
  "language_info": {
   "codemirror_mode": {
    "name": "ipython",
    "version": 3
   },
   "file_extension": ".py",
   "mimetype": "text/x-python",
   "name": "python",
   "nbconvert_exporter": "python",
   "pygments_lexer": "ipython3",
   "version": "3.7.1"
  },
  "toc": {
   "nav_menu": {},
   "number_sections": false,
   "sideBar": true,
   "skip_h1_title": true,
   "title_cell": "Table of Contents",
   "title_sidebar": "Contents",
   "toc_cell": false,
   "toc_position": {},
   "toc_section_display": "block",
   "toc_window_display": false
  }
 },
 "nbformat": 4,
 "nbformat_minor": 2
}
